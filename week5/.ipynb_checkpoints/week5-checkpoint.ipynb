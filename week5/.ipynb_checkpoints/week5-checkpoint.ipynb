{
 "cells": [
  {
   "cell_type": "markdown",
   "metadata": {},
   "source": [
    "### Different ways of formatting printing output"
   ]
  },
  {
   "cell_type": "code",
   "execution_count": 2,
   "metadata": {},
   "outputs": [
    {
     "name": "stdout",
     "output_type": "stream",
     "text": [
      "my name is spiros\n"
     ]
    }
   ],
   "source": [
    "name = \"spiros\"\n",
    "final_name = \"my name is {}\".format(name)\n",
    "print(final_name)"
   ]
  },
  {
   "cell_type": "code",
   "execution_count": 6,
   "metadata": {},
   "outputs": [
    {
     "name": "stdout",
     "output_type": "stream",
     "text": [
      "my name is spiros and I am 20 years old\n",
      "Hello world\n"
     ]
    }
   ],
   "source": [
    "name = \"spiros\"\n",
    "age  = 20\n",
    "print(\"my name is {} and I am {} years old\\n{}\".format(name, age, \"Hello world\"))"
   ]
  },
  {
   "cell_type": "code",
   "execution_count": 34,
   "metadata": {},
   "outputs": [
    {
     "name": "stdout",
     "output_type": "stream",
     "text": [
      "my name is spiros and I am 20 years old\n"
     ]
    }
   ],
   "source": [
    "name = \"spiros\"\n",
    "age  = 20\n",
    "print(\"my name is\", name, \"and I am\", age, \"years old\")"
   ]
  },
  {
   "cell_type": "code",
   "execution_count": 35,
   "metadata": {},
   "outputs": [
    {
     "name": "stdout",
     "output_type": "stream",
     "text": [
      "my name is spiros and I am 20 years old\n"
     ]
    }
   ],
   "source": [
    "name = \"spiros\"\n",
    "age  = 20\n",
    "print(\"my name is %s and I am %d years old\" % (name, age))"
   ]
  },
  {
   "cell_type": "markdown",
   "metadata": {},
   "source": [
    "### Reading CSVs"
   ]
  },
  {
   "cell_type": "code",
   "execution_count": 10,
   "metadata": {},
   "outputs": [],
   "source": [
    "age = {}"
   ]
  },
  {
   "cell_type": "code",
   "execution_count": 19,
   "metadata": {},
   "outputs": [],
   "source": [
    "age[\"mpampis\"] = [20]"
   ]
  },
  {
   "cell_type": "code",
   "execution_count": 21,
   "metadata": {},
   "outputs": [
    {
     "data": {
      "text/plain": [
       "[20]"
      ]
     },
     "execution_count": 21,
     "metadata": {},
     "output_type": "execute_result"
    }
   ],
   "source": [
    "age[\"mpampis\"]"
   ]
  },
  {
   "cell_type": "code",
   "execution_count": 23,
   "metadata": {},
   "outputs": [
    {
     "data": {
      "text/plain": [
       "'mpampis, [20]'"
      ]
     },
     "execution_count": 23,
     "metadata": {},
     "output_type": "execute_result"
    }
   ],
   "source": [
    "\"{}, {}\".format(\"mpampis\", age[\"mpampis\"])"
   ]
  },
  {
   "cell_type": "code",
   "execution_count": 2,
   "metadata": {},
   "outputs": [],
   "source": [
    "import csv"
   ]
  },
  {
   "cell_type": "code",
   "execution_count": 3,
   "metadata": {},
   "outputs": [],
   "source": [
    "mydict = {}\n",
    "with open(\"mock_data.csv\", \"r\") as csv_file:\n",
    "    reader = csv.reader(csv_file)\n",
    "    for row in reader:\n",
    "        #print(row)\n",
    "        mydict[row[0]] = row[1]\n",
    "\n"
   ]
  },
  {
   "cell_type": "code",
   "execution_count": 4,
   "metadata": {},
   "outputs": [
    {
     "data": {
      "text/plain": [
       "'2612436698'"
      ]
     },
     "execution_count": 4,
     "metadata": {},
     "output_type": "execute_result"
    }
   ],
   "source": [
    "mydict['Dexter']"
   ]
  },
  {
   "cell_type": "markdown",
   "metadata": {},
   "source": [
    "\n",
    "# CSVs exercise\n",
    "read mock_data then find the numbers of all the people:\n",
    "* whose names start with 'A' or 'a'\n",
    "* whose names contain 'ie'\n"
   ]
  },
  {
   "cell_type": "code",
   "execution_count": 5,
   "metadata": {},
   "outputs": [
    {
     "name": "stdout",
     "output_type": "stream",
     "text": [
      "6595643060\n",
      "8351363381\n",
      "1912990091\n",
      "1496333018\n",
      "3362472268\n",
      "5046455288\n",
      "3628401512\n",
      "1169465233\n",
      "3715214442\n",
      "4557966630\n",
      "3409984789\n",
      "6684391096\n",
      "8991581022\n",
      "2257735502\n",
      "2959006646\n",
      "3175340841\n",
      "7735070801\n",
      "4737637392\n",
      "1458474184\n",
      "1219911875\n",
      "1146101833\n",
      "6303989842\n",
      "1752160180\n",
      "7266135898\n",
      "1876893087\n",
      "2176839956\n",
      "7712585494\n",
      "6024639473\n",
      "9564294900\n",
      "5644849183\n",
      "1595423462\n",
      "4148699234\n",
      "5688165175\n",
      "1498736508\n",
      "3484580139\n",
      "8742623021\n",
      "9316283990\n",
      "2311051573\n",
      "3036984543\n",
      "6545381407\n",
      "3269034342\n",
      "8526727646\n",
      "3634357311\n",
      "5825951913\n",
      "5848007996\n",
      "9836904396\n",
      "9992395873\n",
      "4523634857\n",
      "9422090359\n",
      "3524014677\n",
      "8102137621\n",
      "1617714498\n",
      "3669810775\n",
      "9359680460\n",
      "6566773587\n",
      "4492109567\n",
      "6848661922\n",
      "1909022166\n",
      "8854891465\n",
      "7953257968\n",
      "2521326512\n",
      "1392330186\n",
      "3349034671\n",
      "3191842504\n",
      "2714087807\n",
      "3814780473\n",
      "4124927330\n",
      "2028319491\n",
      "8682674177\n",
      "3035648172\n",
      "7569478821\n",
      "9669248132\n",
      "6011099923\n",
      "2318355666\n",
      "5451989092\n",
      "2178306180\n",
      "4261238886\n",
      "5984942203\n"
     ]
    }
   ],
   "source": [
    "for key in mydict.keys():\n",
    "    #if key[0] == 'A' or key[0] == 'a':\n",
    "    if key.startswith('A') or key.startswith('a'):\n",
    "        print(mydict[key])"
   ]
  }
 ],
 "metadata": {
  "kernelspec": {
   "display_name": "Python 3",
   "language": "python",
   "name": "python3"
  },
  "language_info": {
   "codemirror_mode": {
    "name": "ipython",
    "version": 3
   },
   "file_extension": ".py",
   "mimetype": "text/x-python",
   "name": "python",
   "nbconvert_exporter": "python",
   "pygments_lexer": "ipython3",
   "version": "3.7.0"
  }
 },
 "nbformat": 4,
 "nbformat_minor": 2
}
