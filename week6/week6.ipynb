{
 "cells": [
  {
   "cell_type": "markdown",
   "metadata": {},
   "source": [
    "## Classes and OOP (object oriented programming)"
   ]
  },
  {
   "cell_type": "code",
   "execution_count": 1,
   "metadata": {},
   "outputs": [
    {
     "name": "stdout",
     "output_type": "stream",
     "text": [
      "John\n",
      "36\n",
      "Hello my name is John\n"
     ]
    }
   ],
   "source": [
    "class Person:\n",
    "  def __init__(self, name, age):\n",
    "    self.name = name\n",
    "    self.age = age\n",
    "\n",
    "  def intro(self):\n",
    "    print(\"Hello my name is \" + self.name)\n",
    "\n",
    "    \n",
    "p1 = Person(\"John\", 36)\n",
    "\n",
    "print(p1.name)\n",
    "print(p1.age)\n",
    "p1.intro()"
   ]
  },
  {
   "cell_type": "markdown",
   "metadata": {},
   "source": [
    "## self"
   ]
  },
  {
   "cell_type": "code",
   "execution_count": 2,
   "metadata": {},
   "outputs": [
    {
     "name": "stdout",
     "output_type": "stream",
     "text": [
      "Hello my name is John\n"
     ]
    }
   ],
   "source": [
    "class Person:\n",
    "  def __init__(mpampis, name, age):\n",
    "    mpampis.name = name\n",
    "    mpampis.age = age\n",
    "\n",
    "  def intro(makis):\n",
    "    print(\"Hello my name is \" + makis.name)\n",
    "\n",
    "p1 = Person(\"John\", 36)\n",
    "p1.intro()"
   ]
  },
  {
   "cell_type": "markdown",
   "metadata": {},
   "source": [
    "# !!! Write code from humans !!!"
   ]
  },
  {
   "cell_type": "code",
   "execution_count": null,
   "metadata": {},
   "outputs": [],
   "source": []
  },
  {
   "cell_type": "code",
   "execution_count": null,
   "metadata": {},
   "outputs": [],
   "source": []
  },
  {
   "cell_type": "code",
   "execution_count": 3,
   "metadata": {},
   "outputs": [],
   "source": [
    "del p1.name"
   ]
  },
  {
   "cell_type": "code",
   "execution_count": 6,
   "metadata": {},
   "outputs": [
    {
     "ename": "NameError",
     "evalue": "name 'p1' is not defined",
     "output_type": "error",
     "traceback": [
      "\u001b[0;31m----------------------------------------\u001b[0m",
      "\u001b[0;31mNameError\u001b[0mTraceback (most recent call last)",
      "\u001b[0;32m<ipython-input-6-153d61598f5b>\u001b[0m in \u001b[0;36m<module>\u001b[0;34m()\u001b[0m\n\u001b[0;32m----> 1\u001b[0;31m \u001b[0mp1\u001b[0m\u001b[0;34m.\u001b[0m\u001b[0mintro\u001b[0m\u001b[0;34m(\u001b[0m\u001b[0;34m)\u001b[0m\u001b[0;34m\u001b[0m\u001b[0m\n\u001b[0m",
      "\u001b[0;31mNameError\u001b[0m: name 'p1' is not defined"
     ]
    }
   ],
   "source": [
    "p1.intro()"
   ]
  },
  {
   "cell_type": "code",
   "execution_count": 5,
   "metadata": {},
   "outputs": [],
   "source": [
    "del p1"
   ]
  },
  {
   "cell_type": "code",
   "execution_count": 8,
   "metadata": {},
   "outputs": [
    {
     "data": {
      "text/plain": [
       "__main__.Person"
      ]
     },
     "execution_count": 8,
     "metadata": {},
     "output_type": "execute_result"
    }
   ],
   "source": [
    "p2 = Person.__new__(Person)\n",
    "type(p2)"
   ]
  },
  {
   "cell_type": "code",
   "execution_count": 9,
   "metadata": {},
   "outputs": [
    {
     "ename": "AttributeError",
     "evalue": "'Person' object has no attribute 'name'",
     "output_type": "error",
     "traceback": [
      "\u001b[0;31m----------------------------------------\u001b[0m",
      "\u001b[0;31mAttributeError\u001b[0mTraceback (most recent call last)",
      "\u001b[0;32m<ipython-input-9-c7b6f044ffbf>\u001b[0m in \u001b[0;36m<module>\u001b[0;34m()\u001b[0m\n\u001b[0;32m----> 1\u001b[0;31m \u001b[0mp2\u001b[0m\u001b[0;34m.\u001b[0m\u001b[0mname\u001b[0m \u001b[0;31m# object created but not initialised that's the reason we get error\u001b[0m\u001b[0;34m\u001b[0m\u001b[0m\n\u001b[0m",
      "\u001b[0;31mAttributeError\u001b[0m: 'Person' object has no attribute 'name'"
     ]
    }
   ],
   "source": [
    "p2.name # object created but not initialised that's the reason we get error"
   ]
  },
  {
   "cell_type": "code",
   "execution_count": 10,
   "metadata": {},
   "outputs": [],
   "source": [
    "p2.__init__(\"John\", 36)"
   ]
  },
  {
   "cell_type": "code",
   "execution_count": 11,
   "metadata": {},
   "outputs": [
    {
     "data": {
      "text/plain": [
       "'John'"
      ]
     },
     "execution_count": 11,
     "metadata": {},
     "output_type": "execute_result"
    }
   ],
   "source": [
    "p2.name"
   ]
  },
  {
   "cell_type": "markdown",
   "metadata": {},
   "source": [
    "## maria = Person(\"maria\", 24) \n",
    "### creation and initialization, then returns the object "
   ]
  },
  {
   "cell_type": "code",
   "execution_count": 13,
   "metadata": {},
   "outputs": [],
   "source": [
    "class Person:\n",
    "  def __init__(self, name, age):\n",
    "    self.name = name\n",
    "    self.age = age\n",
    "\n",
    "  def intro(self):\n",
    "    print(\"Hello my name is \" + self.name)\n",
    "    \n",
    "  def __add__(self, other):\n",
    "    return Person(\"\", self.age + other.age)\n",
    "\n",
    "  def __repr__(self):\n",
    "    return \"{}, {}\".format(self.name, self.age)"
   ]
  },
  {
   "cell_type": "code",
   "execution_count": 17,
   "metadata": {},
   "outputs": [
    {
     "name": "stdout",
     "output_type": "stream",
     "text": [
      "giwrgos, 25\n",
      "maria, 32\n",
      ", 57\n"
     ]
    }
   ],
   "source": [
    "giwrgos = Person(\"giwrgos\", 25)\n",
    "maria = Person(\"maria\", 32)\n",
    "\n",
    "print(giwrgos)\n",
    "print(maria)\n",
    "\n",
    "nikos = giwrgos + maria # uses __add__ special method\n",
    "\n",
    "print(nikos)"
   ]
  },
  {
   "cell_type": "code",
   "execution_count": 19,
   "metadata": {},
   "outputs": [
    {
     "data": {
      "text/plain": [
       "'giwrgos, 25 + maria, 32 = , 57'"
      ]
     },
     "execution_count": 19,
     "metadata": {},
     "output_type": "execute_result"
    }
   ],
   "source": [
    "\"{} + {} = {}\".format(giwrgos, maria, nikos) # uses __repr__ special methods. Very powerful!"
   ]
  },
  {
   "cell_type": "markdown",
   "metadata": {},
   "source": [
    "## More and more\n",
    "\n",
    "object.__del__(self)  \n",
    "object.__lt__(self, other)  \n",
    "object.__le__(self, other)  \n",
    "object.__eq__(self, other)  \n",
    "object.__ne__(self, other)  \n",
    "object.__gt__(self, other)  \n",
    "object.__ge__(self, other)  \n",
    "\n",
    "object.__nonzero__(self)  \n",
    "object.__unicode__(self)  \n",
    "object.__call__(self)  \n",
    "object.__len__(self)  \n",
    "\n",
    "https://docs.python.org/3.6/reference/datamodel.html  "
   ]
  },
  {
   "cell_type": "markdown",
   "metadata": {},
   "source": [
    "# !!! Write code from humans !!!"
   ]
  },
  {
   "cell_type": "markdown",
   "metadata": {},
   "source": [
    "## Demo!"
   ]
  },
  {
   "cell_type": "code",
   "execution_count": null,
   "metadata": {},
   "outputs": [],
   "source": []
  },
  {
   "cell_type": "markdown",
   "metadata": {},
   "source": [
    "## Tuples vs Lists"
   ]
  },
  {
   "cell_type": "code",
   "execution_count": 21,
   "metadata": {},
   "outputs": [],
   "source": [
    "tup = ('physics', 'chemistry', 1997, 2000)"
   ]
  },
  {
   "cell_type": "code",
   "execution_count": 22,
   "metadata": {},
   "outputs": [
    {
     "data": {
      "text/plain": [
       "tuple"
      ]
     },
     "execution_count": 22,
     "metadata": {},
     "output_type": "execute_result"
    }
   ],
   "source": [
    "type(tup)"
   ]
  },
  {
   "cell_type": "code",
   "execution_count": 23,
   "metadata": {},
   "outputs": [
    {
     "name": "stdout",
     "output_type": "stream",
     "text": [
      "('physics', 'chemistry', 1997, 2000)\n"
     ]
    }
   ],
   "source": [
    "print(tup)"
   ]
  },
  {
   "cell_type": "code",
   "execution_count": 28,
   "metadata": {},
   "outputs": [
    {
     "name": "stdout",
     "output_type": "stream",
     "text": [
      "physics\n",
      "chemistry\n",
      "1997\n",
      "2000\n"
     ]
    }
   ],
   "source": [
    "print(tup[0])\n",
    "print(tup[1])\n",
    "print(tup[2])\n",
    "print(tup[3])"
   ]
  },
  {
   "cell_type": "markdown",
   "metadata": {},
   "source": [
    "## Lists are __mutable__ - Tuples are __immutable__"
   ]
  },
  {
   "cell_type": "code",
   "execution_count": 29,
   "metadata": {},
   "outputs": [
    {
     "ename": "TypeError",
     "evalue": "'tuple' object does not support item assignment",
     "output_type": "error",
     "traceback": [
      "\u001b[0;31m----------------------------------------\u001b[0m",
      "\u001b[0;31mTypeError\u001b[0mTraceback (most recent call last)",
      "\u001b[0;32m<ipython-input-29-9d131c12637e>\u001b[0m in \u001b[0;36m<module>\u001b[0;34m()\u001b[0m\n\u001b[0;32m----> 1\u001b[0;31m \u001b[0mtup\u001b[0m\u001b[0;34m[\u001b[0m\u001b[0;36m0\u001b[0m\u001b[0;34m]\u001b[0m \u001b[0;34m=\u001b[0m \u001b[0;36m4\u001b[0m\u001b[0;34m\u001b[0m\u001b[0m\n\u001b[0m",
      "\u001b[0;31mTypeError\u001b[0m: 'tuple' object does not support item assignment"
     ]
    }
   ],
   "source": [
    "tup[0] = 4"
   ]
  },
  {
   "cell_type": "markdown",
   "metadata": {},
   "source": [
    "## Playing with meteorites"
   ]
  },
  {
   "cell_type": "code",
   "execution_count": 8,
   "metadata": {},
   "outputs": [],
   "source": [
    "class Meteor:\n",
    "    def __init__(self, data):\n",
    "        self.name = data[0]\n",
    "        self.id = data[1]\n",
    "        self.nametype = data[2]\n",
    "        self.recclass = data[3]\n",
    "        self.mass = data[4]\n",
    "        self.fall = data[5]\n",
    "        self.year = data[6]\n",
    "        self.reclat = data[7]\n",
    "        self.reclong = data[8]\n",
    "        self.geolocation = data[9]\n",
    "        \n",
    "    def __repr__(self):\n",
    "        result = \"\"\n",
    "        result += \"Name: {}\\n\".format(self.name)\n",
    "        result += \"id: {}\\n\".format(self.id)\n",
    "        result += \"nametype: {}\\n\".format(self.nametype)\n",
    "        result += \"recclass: {}\\n\".format(self.recclass)\n",
    "        result += \"mass: {}\\n\".format(self.mass)\n",
    "        result += \"fall: {}\\n\".format(self.fall)\n",
    "        result += \"year: {}\\n\".format(self.year)\n",
    "        result += \"reclat: {}\\n\".format(self.reclat)\n",
    "        result += \"reclong: {}\\n\".format(self.reclong)\n",
    "        result += \"geolocation: {}\\n\".format(self.geolocation)\n",
    "        return result"
   ]
  },
  {
   "cell_type": "code",
   "execution_count": 64,
   "metadata": {},
   "outputs": [],
   "source": [
    "class Meteorite_list:\n",
    "    def __init__(self, meteorlist=None):\n",
    "        self.meteors = []\n",
    "        \n",
    "    def __add__(self, other):\n",
    "        newList =  Meteorite_list()\n",
    "        newList.meteors = self.meteors + other.meteors\n",
    "        return newList\n",
    "    \n",
    "    def __repr__(self):\n",
    "        result = \"\"\n",
    "        for met in self.meteors:\n",
    "            result += str(met)\n",
    "        return result\n",
    "    \n",
    "    def __len__(self):\n",
    "        return len(self.meteors)\n",
    "    \n",
    "    def append(self, meteor):\n",
    "        self.meteors.append(meteor)\n",
    "        return len(self.meteors)"
   ]
  },
  {
   "cell_type": "code",
   "execution_count": 65,
   "metadata": {},
   "outputs": [],
   "source": [
    "import csv\n",
    "\n",
    "data = []\n",
    "with open(\"./Meteorite_Landings.csv\") as csv_file:\n",
    "    reader = csv.reader(csv_file)\n",
    "   # rows = csv_file.readlines()\n",
    "    for row in reader:\n",
    "#         data.append([x.strip() for x in row.split(',')])\n",
    "        data.append(row)\n"
   ]
  },
  {
   "cell_type": "code",
   "execution_count": 66,
   "metadata": {},
   "outputs": [],
   "source": [
    "test = Meteor(data[1])"
   ]
  },
  {
   "cell_type": "code",
   "execution_count": 67,
   "metadata": {},
   "outputs": [],
   "source": [
    "newList = Meteorite_list()"
   ]
  },
  {
   "cell_type": "code",
   "execution_count": 68,
   "metadata": {},
   "outputs": [
    {
     "name": "stdout",
     "output_type": "stream",
     "text": [
      "Name: Aachen\n",
      "id: 1\n",
      "nametype: Valid\n",
      "recclass: L5\n",
      "mass: 21\n",
      "fall: Fell\n",
      "year: 01/01/1880 12:00:00 AM\n",
      "reclat: 50.775000\n",
      "reclong: 6.083330\n",
      "geolocation: (50.775000, 6.083330)\n",
      "Name: Aachen\n",
      "id: 1\n",
      "nametype: Valid\n",
      "recclass: L5\n",
      "mass: 21\n",
      "fall: Fell\n",
      "year: 01/01/1880 12:00:00 AM\n",
      "reclat: 50.775000\n",
      "reclong: 6.083330\n",
      "geolocation: (50.775000, 6.083330)\n",
      "\n"
     ]
    },
    {
     "data": {
      "text/plain": [
       "2"
      ]
     },
     "execution_count": 68,
     "metadata": {},
     "output_type": "execute_result"
    }
   ],
   "source": [
    "newList.append(test)\n",
    "newList.append(test)\n",
    "print(newList)\n",
    "len(newList)"
   ]
  },
  {
   "cell_type": "markdown",
   "metadata": {},
   "source": [
    "## Optional Arguments!!!"
   ]
  },
  {
   "cell_type": "code",
   "execution_count": 83,
   "metadata": {},
   "outputs": [],
   "source": [
    "def myfunc(an_int, a_string, maybe_this = None):\n",
    "    # by setting maybe_this equal to a value in the declaration, \n",
    "    # python knows that if this argument is not provided then it will play it cool\n",
    "    print(\"{}, {}, {}\".format(an_int, a_string, \"3rd argument provided\" if maybe_this else \":( okay no problem\"))"
   ]
  },
  {
   "cell_type": "code",
   "execution_count": 84,
   "metadata": {},
   "outputs": [
    {
     "name": "stdout",
     "output_type": "stream",
     "text": [
      "1, mpampis, :( okay no problem\n"
     ]
    }
   ],
   "source": [
    "myfunc(1,'mpampis')"
   ]
  },
  {
   "cell_type": "code",
   "execution_count": 85,
   "metadata": {},
   "outputs": [
    {
     "name": "stdout",
     "output_type": "stream",
     "text": [
      "1, mpampis, 3rd argument provided\n"
     ]
    }
   ],
   "source": [
    "myfunc(1,'mpampis', \"hi\")"
   ]
  },
  {
   "cell_type": "code",
   "execution_count": 87,
   "metadata": {},
   "outputs": [
    {
     "name": "stdout",
     "output_type": "stream",
     "text": [
      "1, mpampis, 3rd argument provided\n"
     ]
    }
   ],
   "source": [
    "myfunc(1,'mpampis', maybe_this=\"hi\")"
   ]
  },
  {
   "cell_type": "code",
   "execution_count": 88,
   "metadata": {},
   "outputs": [
    {
     "name": "stdout",
     "output_type": "stream",
     "text": [
      "hi\n"
     ]
    }
   ],
   "source": [
    "def myfunc(an_int, a_string, maybe_this = None, maybe_that = None):\n",
    "    print(maybe_that)\n",
    "\n",
    "myfunc(1, \"string\", maybe_that=\"hi\")"
   ]
  },
  {
   "cell_type": "markdown",
   "metadata": {},
   "source": [
    "# Projects\n",
    "  \n",
    "### Blackjack (21)\n",
    "  \n",
    "### Kremala (Hangman)\n",
    "  \n",
    "\n",
    "## Beautiful Soup\n",
    "  \n",
    "  \n",
    "### Monitor bitcoin prices (https://www.youtube.com/watch?v=gz7IPTf1uts)\n",
    "  \n",
    "### Corfuland house renting (http://www.corfuland.gr/el/mikres-aggelies-kerkyra/aggelies-enoikiasis-katoikiwn-stin-kerkyra)\n",
    "#### (https://github.com/spirosbax/openCoursesDownloader)\n"
   ]
  },
  {
   "cell_type": "code",
   "execution_count": null,
   "metadata": {},
   "outputs": [],
   "source": []
  }
 ],
 "metadata": {
  "kernelspec": {
   "display_name": "Python 3",
   "language": "python",
   "name": "python3"
  },
  "language_info": {
   "codemirror_mode": {
    "name": "ipython",
    "version": 3
   },
   "file_extension": ".py",
   "mimetype": "text/x-python",
   "name": "python",
   "nbconvert_exporter": "python",
   "pygments_lexer": "ipython3",
   "version": "3.7.0"
  }
 },
 "nbformat": 4,
 "nbformat_minor": 2
}
