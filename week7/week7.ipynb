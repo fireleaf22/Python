{
 "cells": [
  {
   "cell_type": "code",
   "execution_count": 1,
   "metadata": {},
   "outputs": [],
   "source": [
    "class Person:\n",
    "  def __init__(self, name, age):\n",
    "    self.name = name\n",
    "    self.age = age\n",
    "\n",
    "  def intro(self):\n",
    "    print(\"Hello my name is \" + self.name)\n",
    "    \n",
    "  def __add__(self, other):\n",
    "    return Person(\"\", self.age + other.age)\n",
    "\n",
    "  def __repr__(self):\n",
    "    return \"{}, {}\".format(self.name, self.age)"
   ]
  },
  {
   "cell_type": "markdown",
   "metadata": {},
   "source": [
    "## Playing with meteorites"
   ]
  },
  {
   "cell_type": "code",
   "execution_count": 8,
   "metadata": {},
   "outputs": [],
   "source": [
    "class Meteor:\n",
    "    def __init__(self, data):\n",
    "        self.name = data[0]\n",
    "        self.id = data[1]\n",
    "        self.nametype = data[2]\n",
    "        self.recclass = data[3]\n",
    "        self.mass = data[4]\n",
    "        self.fall = data[5]\n",
    "        self.year = data[6]\n",
    "        self.reclat = data[7]\n",
    "        self.reclong = data[8]\n",
    "        self.geolocation = data[9]\n",
    "        \n",
    "    def __repr__(self):\n",
    "        result = \"\"\n",
    "        result += \"Name: {}\\n\".format(self.name)\n",
    "        result += \"id: {}\\n\".format(self.id)\n",
    "        result += \"nametype: {}\\n\".format(self.nametype)\n",
    "        result += \"recclass: {}\\n\".format(self.recclass)\n",
    "        result += \"mass: {}\\n\".format(self.mass)\n",
    "        result += \"fall: {}\\n\".format(self.fall)\n",
    "        result += \"year: {}\\n\".format(self.year)\n",
    "        result += \"reclat: {}\\n\".format(self.reclat)\n",
    "        result += \"reclong: {}\\n\".format(self.reclong)\n",
    "        result += \"geolocation: {}\\n\".format(self.geolocation)\n",
    "        return result"
   ]
  },
  {
   "cell_type": "code",
   "execution_count": 64,
   "metadata": {},
   "outputs": [],
   "source": [
    "class Meteorite_list:\n",
    "    def __init__(self, meteorlist=None):\n",
    "        self.meteors = []\n",
    "        \n",
    "    def __add__(self, other):\n",
    "        newList =  Meteorite_list()\n",
    "        newList.meteors = self.meteors + other.meteors\n",
    "        return newList\n",
    "    \n",
    "    def __repr__(self):\n",
    "        result = \"\"\n",
    "        for met in self.meteors:\n",
    "            result += str(met)\n",
    "        return result\n",
    "    \n",
    "    def __len__(self):\n",
    "        return len(self.meteors)\n",
    "    \n",
    "    def append(self, meteor):\n",
    "        self.meteors.append(meteor)\n",
    "        return len(self.meteors)"
   ]
  },
  {
   "cell_type": "code",
   "execution_count": 65,
   "metadata": {},
   "outputs": [],
   "source": [
    "import csv\n",
    "\n",
    "data = []\n",
    "with open(\"./Meteorite_Landings.csv\") as csv_file:\n",
    "    reader = csv.reader(csv_file)\n",
    "   # rows = csv_file.readlines()\n",
    "    for row in reader:\n",
    "#         data.append([x.strip() for x in row.split(',')])\n",
    "        data.append(row)\n"
   ]
  },
  {
   "cell_type": "code",
   "execution_count": 66,
   "metadata": {},
   "outputs": [],
   "source": [
    "test = Meteor(data[1])"
   ]
  },
  {
   "cell_type": "code",
   "execution_count": 67,
   "metadata": {},
   "outputs": [],
   "source": [
    "newList = Meteorite_list()"
   ]
  },
  {
   "cell_type": "code",
   "execution_count": 68,
   "metadata": {
    "scrolled": true
   },
   "outputs": [
    {
     "name": "stdout",
     "output_type": "stream",
     "text": [
      "Name: Aachen\n",
      "id: 1\n",
      "nametype: Valid\n",
      "recclass: L5\n",
      "mass: 21\n",
      "fall: Fell\n",
      "year: 01/01/1880 12:00:00 AM\n",
      "reclat: 50.775000\n",
      "reclong: 6.083330\n",
      "geolocation: (50.775000, 6.083330)\n",
      "Name: Aachen\n",
      "id: 1\n",
      "nametype: Valid\n",
      "recclass: L5\n",
      "mass: 21\n",
      "fall: Fell\n",
      "year: 01/01/1880 12:00:00 AM\n",
      "reclat: 50.775000\n",
      "reclong: 6.083330\n",
      "geolocation: (50.775000, 6.083330)\n",
      "\n"
     ]
    },
    {
     "data": {
      "text/plain": [
       "2"
      ]
     },
     "execution_count": 68,
     "metadata": {},
     "output_type": "execute_result"
    }
   ],
   "source": [
    "newList.append(test)\n",
    "newList.append(test)\n",
    "print(newList)\n",
    "len(newList)"
   ]
  },
  {
   "cell_type": "markdown",
   "metadata": {},
   "source": [
    "## Optional Arguments!!!"
   ]
  },
  {
   "cell_type": "code",
   "execution_count": 83,
   "metadata": {},
   "outputs": [],
   "source": [
    "def myfunc(an_int, a_string, maybe_this = None):\n",
    "    # by setting maybe_this equal to a value in the declaration, \n",
    "    # python knows that if this argument is not provided then it will play it cool\n",
    "    print(\"{}, {}, {}\".format(an_int, a_string, \"3rd argument provided\" if maybe_this else \":( okay no problem\"))"
   ]
  },
  {
   "cell_type": "code",
   "execution_count": 84,
   "metadata": {},
   "outputs": [
    {
     "name": "stdout",
     "output_type": "stream",
     "text": [
      "1, mpampis, :( okay no problem\n"
     ]
    }
   ],
   "source": [
    "myfunc(1,'mpampis')"
   ]
  },
  {
   "cell_type": "code",
   "execution_count": 85,
   "metadata": {},
   "outputs": [
    {
     "name": "stdout",
     "output_type": "stream",
     "text": [
      "1, mpampis, 3rd argument provided\n"
     ]
    }
   ],
   "source": [
    "myfunc(1,'mpampis', \"hi\")"
   ]
  },
  {
   "cell_type": "code",
   "execution_count": 87,
   "metadata": {},
   "outputs": [
    {
     "name": "stdout",
     "output_type": "stream",
     "text": [
      "1, mpampis, 3rd argument provided\n"
     ]
    }
   ],
   "source": [
    "myfunc(1,'mpampis', maybe_this=\"hi\")"
   ]
  },
  {
   "cell_type": "code",
   "execution_count": 88,
   "metadata": {
    "scrolled": true
   },
   "outputs": [
    {
     "name": "stdout",
     "output_type": "stream",
     "text": [
      "hi\n"
     ]
    }
   ],
   "source": [
    "def myfunc(an_int, a_string, maybe_this = None, maybe_that = None):\n",
    "    print(maybe_that)\n",
    "\n",
    "myfunc(1, \"string\", maybe_that=\"hi\")"
   ]
  },
  {
   "cell_type": "markdown",
   "metadata": {},
   "source": [
    "## Functions returning more than one value"
   ]
  },
  {
   "cell_type": "code",
   "execution_count": 2,
   "metadata": {},
   "outputs": [],
   "source": [
    "def more_than_one(num, string1, string2):\n",
    "    if num > 5:\n",
    "        return (string1, string2)\n",
    "    else:\n",
    "        return string1"
   ]
  },
  {
   "cell_type": "code",
   "execution_count": 19,
   "metadata": {},
   "outputs": [
    {
     "name": "stdout",
     "output_type": "stream",
     "text": [
      "('mpampis', 'makhs')\n"
     ]
    }
   ],
   "source": [
    "print(more_than_one(7, \"mpampis\", \"makhs\"))"
   ]
  },
  {
   "cell_type": "code",
   "execution_count": 3,
   "metadata": {},
   "outputs": [
    {
     "ename": "ValueError",
     "evalue": "too many values to unpack (expected 2)",
     "output_type": "error",
     "traceback": [
      "\u001b[0;31m---------------------------------------------------------------------------\u001b[0m",
      "\u001b[0;31mValueError\u001b[0m                                Traceback (most recent call last)",
      "\u001b[0;32m<ipython-input-3-e2c77c84da7e>\u001b[0m in \u001b[0;36m<module>\u001b[0;34m()\u001b[0m\n\u001b[0;32m----> 1\u001b[0;31m \u001b[0mx\u001b[0m\u001b[0;34m,\u001b[0m\u001b[0my\u001b[0m \u001b[0;34m=\u001b[0m \u001b[0mmore_than_one\u001b[0m\u001b[0;34m(\u001b[0m\u001b[0;36m2\u001b[0m\u001b[0;34m,\u001b[0m \u001b[0;34m\"mpampis\"\u001b[0m\u001b[0;34m,\u001b[0m \u001b[0;34m\"makhs\"\u001b[0m\u001b[0;34m)\u001b[0m \u001b[0;31m# value unpacking\u001b[0m\u001b[0;34m\u001b[0m\u001b[0m\n\u001b[0m",
      "\u001b[0;31mValueError\u001b[0m: too many values to unpack (expected 2)"
     ]
    }
   ],
   "source": [
    "x,y = more_than_one(2, \"mpampis\", \"makhs\") # value unpacking"
   ]
  },
  {
   "cell_type": "code",
   "execution_count": 21,
   "metadata": {},
   "outputs": [
    {
     "name": "stdout",
     "output_type": "stream",
     "text": [
      "mpampis makhs\n"
     ]
    }
   ],
   "source": [
    "print(x,y)"
   ]
  },
  {
   "cell_type": "markdown",
   "metadata": {},
   "source": [
    "## Mutable vs Immutable Objects (pass by reference, pass by value)\n",
    "https://i.stack.imgur.com/FdaCu.png  \n",
    "https://cdn-images-1.medium.com/max/800/1*uFlTNY4W3czywyU18zxl8w.png"
   ]
  },
  {
   "cell_type": "code",
   "execution_count": 28,
   "metadata": {},
   "outputs": [
    {
     "name": "stdout",
     "output_type": "stream",
     "text": [
      "Before: ['string']\n",
      "After: ['string', 'int']\n"
     ]
    }
   ],
   "source": [
    "def change(var):\n",
    "    var.append(\"int\")\n",
    "\n",
    "x = [\"string\"]\n",
    "print(\"Before:\", x)\n",
    "change(x)\n",
    "print(\"After:\", x)"
   ]
  },
  {
   "cell_type": "code",
   "execution_count": 6,
   "metadata": {},
   "outputs": [
    {
     "data": {
      "text/plain": [
       "8"
      ]
     },
     "execution_count": 6,
     "metadata": {},
     "output_type": "execute_result"
    }
   ],
   "source": [
    "def add1(x):\n",
    "    return x+1\n",
    "x= 7\n",
    "x = add1(x)\n",
    "x"
   ]
  },
  {
   "cell_type": "code",
   "execution_count": null,
   "metadata": {},
   "outputs": [],
   "source": [
    "x = change(x) # standard"
   ]
  },
  {
   "cell_type": "code",
   "execution_count": null,
   "metadata": {},
   "outputs": [],
   "source": [
    "x.whatever_function() # in-place, var.append(\"int\")"
   ]
  }
 ],
 "metadata": {
  "kernelspec": {
   "display_name": "Python 3",
   "language": "python",
   "name": "python3"
  },
  "language_info": {
   "codemirror_mode": {
    "name": "ipython",
    "version": 3
   },
   "file_extension": ".py",
   "mimetype": "text/x-python",
   "name": "python",
   "nbconvert_exporter": "python",
   "pygments_lexer": "ipython3",
   "version": "3.7.0"
  }
 },
 "nbformat": 4,
 "nbformat_minor": 2
}
